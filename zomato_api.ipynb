{
 "cells": [
  {
   "cell_type": "code",
   "execution_count": 1,
   "metadata": {},
   "outputs": [],
   "source": [
    "import requests\n",
    "import json\n",
    "#api_key=52f5a65e7565736ff9e9a1895b9c2f66\n"
   ]
  },
  {
   "cell_type": "code",
   "execution_count": 35,
   "metadata": {},
   "outputs": [
    {
     "data": {
      "text/plain": [
       "200"
      ]
     },
     "execution_count": 35,
     "metadata": {},
     "output_type": "execute_result"
    }
   ],
   "source": [
    "req=requests.get(\"https://developers.zomato.com/api/v2.1/cuisines\",headers={\"user-key\":\"52f5a65e7565736ff9e9a1895b9c2f66\"},params={\"city_id\":1})\n",
    "req.status_code"
   ]
  },
  {
   "cell_type": "code",
   "execution_count": 36,
   "metadata": {},
   "outputs": [
    {
     "name": "stdout",
     "output_type": "stream",
     "text": [
      "193\n"
     ]
    }
   ],
   "source": [
    "\n",
    "req_py=req.json()\n",
    "for i in req_py[\"cuisines\"]:\n",
    "    if i[\"cuisine\"][\"cuisine_name\"]==\"BBQ\":\n",
    "        print(i[\"cuisine\"][\"cuisine_id\"])\n",
    "    \n",
    "    \n"
   ]
  },
  {
   "cell_type": "code",
   "execution_count": 63,
   "metadata": {},
   "outputs": [],
   "source": [
    "req1=requests.get(\"https://developers.zomato.com/api/v2.1/locations\",headers={\"user-key\":\"52f5a65e7565736ff9e9a1895b9c2f66\"},params={\"query\":\"Meharauli\"})\n",
    "req1_py=req1.json()\n"
   ]
  },
  {
   "cell_type": "code",
   "execution_count": 64,
   "metadata": {},
   "outputs": [
    {
     "name": "stdout",
     "output_type": "stream",
     "text": [
      "subzone 51\n"
     ]
    }
   ],
   "source": [
    "for i in req1_py[\"location_suggestions\"]:\n",
    "    print(i[\"entity_type\"],i[\"entity_id\"])"
   ]
  },
  {
   "cell_type": "code",
   "execution_count": 73,
   "metadata": {},
   "outputs": [],
   "source": [
    "data={\"entity_id\":51,\"entity_type\":\"subzone\",\"count\":10,\"cuisines\":\"50\",\"sort\":\"rating\"}\n",
    "req2=requests.get(\"https://developers.zomato.com/api/v2.1/search\",headers={\"user-key\":\"52f5a65e7565736ff9e9a1895b9c2f66\"},params=data)\n",
    "\n"
   ]
  },
  {
   "cell_type": "code",
   "execution_count": 74,
   "metadata": {},
   "outputs": [
    {
     "name": "stdout",
     "output_type": "stream",
     "text": [
      "Olive Bar & Kitchen 4.7 3258\n",
      "Bo Tai 4.7 18676964\n",
      "Rooh 4.5 19012642\n",
      "Dramz 4.3 307432\n",
      "Qla 4.2 312781\n",
      "Kulchewala & Co. 4.2 19283054\n",
      "Rose Cafe 4.2 8621\n",
      "Lavaash By Saby 4.1 18128893\n",
      "Scrummy Bites 4.1 19218461\n",
      "Biryani And Muglai House 3.9 19352721\n"
     ]
    }
   ],
   "source": [
    "req2_py=req2.json()\n",
    "for i in req2_py[\"restaurants\"]:\n",
    "    print(i['restaurant'][\"name\"],i['restaurant'][\"user_rating\"][\"aggregate_rating\"],i[\"restaurant\"][\"id\"])"
   ]
  },
  {
   "cell_type": "code",
   "execution_count": null,
   "metadata": {},
   "outputs": [],
   "source": []
  },
  {
   "cell_type": "code",
   "execution_count": 75,
   "metadata": {},
   "outputs": [],
   "source": [
    "req3=requests.get(\"https://developers.zomato.com/api/v2.1/categories\",headers={\"user-key\":\"52f5a65e7565736ff9e9a1895b9c2f66\"})\n",
    "req3_py=req3.json()\n"
   ]
  },
  {
   "cell_type": "code",
   "execution_count": 87,
   "metadata": {},
   "outputs": [
    {
     "name": "stdout",
     "output_type": "stream",
     "text": [
      "categories\n"
     ]
    }
   ],
   "source": [
    "for i in req3_py:\n",
    "    print(i)"
   ]
  },
  {
   "cell_type": "code",
   "execution_count": 84,
   "metadata": {},
   "outputs": [],
   "source": [
    "data={\"entity_id\":104,\"entity_type\":\"subzone\",\"cuisines\":\"73\",\"category\":\"6\",\"sort\":\"rating\"}\n",
    "req4=requests.get(\"https://developers.zomato.com/api/v2.1/search\",headers={\"user-key\":\"52f5a65e7565736ff9e9a1895b9c2f66\"},params=data)\n",
    "req4_py=req4.json()"
   ]
  },
  {
   "cell_type": "code",
   "execution_count": 85,
   "metadata": {},
   "outputs": [
    {
     "name": "stdout",
     "output_type": "stream",
     "text": [
      "Xero Degrees 4.3 18729557\n",
      "Chaayos - Meri Wali Chai 4.2 18237315\n",
      "The Art House Bar n Cafe 3.9 18863766\n",
      "Cafe Coffee Day - The Square 3.5 303034\n"
     ]
    }
   ],
   "source": [
    "for i in req4_py[\"restaurants\"]:\n",
    "    print(i['restaurant'][\"name\"],i['restaurant'][\"user_rating\"][\"aggregate_rating\"],i[\"restaurant\"][\"id\"])"
   ]
  },
  {
   "cell_type": "code",
   "execution_count": 88,
   "metadata": {},
   "outputs": [],
   "source": [
    "req5=requests.get(\"https://developers.zomato.com/api/v2.1/reviews\",headers={\"user-key\":\"52f5a65e7565736ff9e9a1895b9c2f66\"},params={\"res_id\":\"18729557\",\"count\":\"5\"})\n",
    "req5_py=req5.json()"
   ]
  },
  {
   "cell_type": "code",
   "execution_count": 102,
   "metadata": {},
   "outputs": [
    {
     "name": "stdout",
     "output_type": "stream",
     "text": [
      "Yashita Malik 4 This is a really cool cafe to hang out with friends.Their peri peri cheesy fries are just drool worth 🤤.Other specials from their menu includes their white sauce pasta, chocolate waffels and their burgers.The food here is quite inexpensive but tastes delicious ♥️\n",
      "Jasleen Kaur 5 If you are craving for a cheesy peri peri fried kinda thing you should visit xero degrees asap. Their fries are amazing and will satisfy all your cheesy cravings. The service is fast and you need not wait a lot to satisfy your taste buds.\n",
      "Riya Goyal 5 Well i have tried a lot from this place and they really have an amazing taste but these tricolor burgers were something that i didnt liked much. plus they were too small in size and not worth the cost. Taste - 6/10\n",
      "Yashaa Aarushi 5 Here's our favourite cafe. Little ambience but amazing food. The peri peri fries are soo yummy that we never leave cp without eating these fries at xero degrees!! From the fries to freaky shakes everything is just delicious. One must visit.\n",
      "Sugandh Singhal 4 Their ambiance is a bit small in size but their menu has a variety of options to choose from. Order a shake or fries or a pizza but you will not get disappointed. The taste of each and everything is really amazing and the prices are also too affordable.\n"
     ]
    }
   ],
   "source": [
    "req5_py=req5.json()\n",
    "for i in req5_py[\"user_reviews\"]:\n",
    "    print(i[\"review\"][\"user\"][\"name\"],i[\"review\"][\"rating\"],i[\"review\"][\"review_text\"])"
   ]
  },
  {
   "cell_type": "code",
   "execution_count": 2,
   "metadata": {},
   "outputs": [],
   "source": [
    "req6=requests.get(\"https://developers.zomato.com/api/v2.1/search\",headers={\"user-key\":\"52f5a65e7565736ff9e9a1895b9c2f66\"},params={\"entity_id\":\"1\",\"entity_type\":\"city\",\"q\":\"Pa Pa Ya\"})\n",
    "req6_py=req6.json()"
   ]
  },
  {
   "cell_type": "code",
   "execution_count": 8,
   "metadata": {},
   "outputs": [
    {
     "data": {
      "text/plain": [
       "'18429148'"
      ]
     },
     "execution_count": 8,
     "metadata": {},
     "output_type": "execute_result"
    }
   ],
   "source": [
    "for i in req6_py[\"restaurants\"]:\n",
    "    if i[\"restaurant\"][\"name\"] == \"Pa Pa Ya\":\n",
    "        res=i[\"restaurant\"]['id']\n",
    "res"
   ]
  },
  {
   "cell_type": "code",
   "execution_count": 10,
   "metadata": {},
   "outputs": [],
   "source": [
    "req6_1=requests.get(\"https://developers.zomato.com/api/v2.1/restaurant\",headers={\"user-key\":\"52f5a65e7565736ff9e9a1895b9c2f66\"},params={\"res_id\":res})\n",
    "req6_1_py=req6_1.json()"
   ]
  },
  {
   "cell_type": "code",
   "execution_count": 24,
   "metadata": {},
   "outputs": [
    {
     "name": "stdout",
     "output_type": "stream",
     "text": [
      "4.9\n",
      "2500\n",
      "Asian, Chinese, Thai, Japanese\n",
      "A-3, Select Citywalk, District Centre, Saket, New Delhi\n"
     ]
    }
   ],
   "source": [
    "print(req6_1_py[\"user_rating\"][\"aggregate_rating\"])\n",
    "print(req6_1_py[\"average_cost_for_two\"])\n",
    "print(req6_1_py[\"cuisines\"])\n",
    "print(req6_1_py[\"location\"][\"address\"])\n",
    "\n",
    "\n",
    "\n",
    "\n",
    "\n"
   ]
  },
  {
   "cell_type": "code",
   "execution_count": 31,
   "metadata": {},
   "outputs": [],
   "source": [
    "req7=requests.get(\"https://developers.zomato.com/api/v2.1/reviews\",headers={\"user-key\":\"52f5a65e7565736ff9e9a1895b9c2f66\"},params={\"res_id\":res,\"count\":\"5\"})\n",
    "req7_py=req7.json()"
   ]
  },
  {
   "cell_type": "code",
   "execution_count": 33,
   "metadata": {},
   "outputs": [
    {
     "name": "stdout",
     "output_type": "stream",
     "text": [
      "Simon 4 Great Ambiance, Lovely staff members, Delighted with the quality of food and the presentation. Would surely come back for more.\n",
      "The_foodeats 3 \n",
      "Twofoodieforks 4 \n",
      "Sreekanth S 5 \n",
      "Jyoti Verma 5 Before covid hit, happened to trap a quick lunch from ever so popular restaurant Papaya. Man, their service is so fast that it wasn’t even funny! We happened to grab veg Padh Thai with veggie red Curry.    *not giving detailed ratings until this stupid covid19 gets over\n"
     ]
    }
   ],
   "source": [
    "for i in req7_py[\"user_reviews\"]:\n",
    "    print(i[\"review\"][\"user\"][\"name\"],i[\"review\"][\"rating\"],i[\"review\"][\"review_text\"])"
   ]
  },
  {
   "cell_type": "code",
   "execution_count": 63,
   "metadata": {},
   "outputs": [],
   "source": [
    "#28.69779322488707, 77.14059471090845\n",
    "r=requests.get(\"https://developers.zomato.com/api/v2.1/search\",headers={\"user-key\":\"52f5a65e7565736ff9e9a1895b9c2f66\"},params={\"entity_id\":\"1\",\"entity_type\":\"city\",\"count\":\"10\",\"lat\":\"28.69779322488707\",\"lon\":\"77.14059471090845\",\"radius\":\"4000\",\"sort\":\"rating\"})\n",
    "r1=r.json()"
   ]
  },
  {
   "cell_type": "code",
   "execution_count": 64,
   "metadata": {},
   "outputs": [
    {
     "name": "stdout",
     "output_type": "stream",
     "text": [
      "Indian Accent 4.9 2004 The Lodhi, Lodhi Road\n",
      "Cafe Lota 4.9 305525 Pragati Maidan\n",
      "Pa Pa Ya 4.9 18429148 Select Citywalk Mall, Saket\n",
      "The Big Chill 4.9 1614 Khan Market\n",
      "Carnatic Cafe 4.9 7843 Lodhi Colony\n",
      "Kuremal Mohan Lal Kulfi Wale 4.9 303642 Chawri Bazar\n",
      "Dum-Pukht - ITC Maurya 4.9 2744 ITC Maurya, Chanakyapuri\n",
      "Cocktails & Dreams, Speakeasy 4.9 300716 Sector 15\n",
      "The Big Chill 4.9 8244 Khan Market\n",
      "Manhattan Bar & Brewery 4.8 303960 Global Foyer Mall, Golf Course Road\n"
     ]
    }
   ],
   "source": [
    "#name id rating locality\n",
    "for i in r1[\"restaurants\"]:\n",
    "    print(i[\"restaurant\"]['name'],i[\"restaurant\"]['user_rating'][\"aggregate_rating\"],i[\"restaurant\"]['id'],i['restaurant']['location']['locality'])"
   ]
  },
  {
   "cell_type": "code",
   "execution_count": 59,
   "metadata": {},
   "outputs": [],
   "source": [
    "res=18204820\n",
    "req7=requests.get(\"https://developers.zomato.com/api/v2.1/reviews\",headers={\"user-key\":\"52f5a65e7565736ff9e9a1895b9c2f66\"},params={\"res_id\":res,\"count\":\"5\"})\n",
    "req7_py=req7.json()"
   ]
  },
  {
   "cell_type": "code",
   "execution_count": 60,
   "metadata": {},
   "outputs": [
    {
     "name": "stdout",
     "output_type": "stream",
     "text": [
      "Sakshi Sabnani 4 We organized a get together here..ambiance and drinks was good but the food was not upto the mark but if you are going for dine out the food is good..maybe they weren't able to cater the party well.\n",
      "ANNANT VASHIST 5 I celebrated my bday in Themis barbecue . I enjoyed a lot and the staff was really good nd the food is very delicious .\n",
      "Sangeeta Kalita (thatcravingfoodie) 4 Visited them last month. On entering, you realise that the indoor seating area is not that spacious. I wanted to be seated outdoors, but then it's only allowed for dinner time. I wasn't very taken by the ambiance.  Coming to the food, I opted for the non-vegetarian buffet option. For drinks, I chose a litchi based mocktail. You could also go for beer or whisky which I think I should have chosen too, now that I think of it. But there's no use crying over spilled milk now. So coming back to my litchi mocktail, let me say it was awesome. Tart and sweet and zingy. Was a pleasant accompaniment to the starters. I really liked the chilly fish, chicken tikka, crispy corn. Cajun potatoes lacked that kick and mutton seekh was really dry. The paneer tikka too wasn't flavourful enough. And the pizza base was very tough.  The main course was so delicious. I am a manchow soup lover. And I helped myself to bowls of the veg manchow soup. Then I came across chicken hot and sour soup and gobbled that up too. I also tried different salads I think you could and should skip them. The chicken biryani and mutton rogan josh warmed up my soul with their distinctly spiced flavours. The biryani deserves special mention with the overwhelming aroma of whole spices and chunky chicken pieces. The rogan josh curry was hot and spicy and I was satisfied then and there. Nevertheless, greed occupied me again while going through other dishes and this time I helped myself to hakka chowmein and stir fried veggies in basil chilly sauce (yeah it's veg. Don't be surprised). The veggie gravy was utterly savoury and had so much going on. Sweet, sour, salty, that fresh basil hit. And by then I realised I was almost full and had to end my main course eating spree.  Coming to desserts, gulab jamuns were soul warming. The chocolate pastry was lush and bitter and kept me wanting more. The tarts were creamy and crumbley. Delicious. Moong dal halwa was all ghee and nuts and heavenly. And the strawberry ice cream was creamy and screamed fresh strawberries and not the artificial colour and flavour stuff.  Overall, it was a decent experience. Although I think cutting out the live music part during afternoons wouldn't be a bad idea afterall. It felt kinda loud and claustrophobic. The service was not bad. The prices were moderate. I paid 1300+ for two non-veg lunch buffets.\n",
      "Medhavi 5 Enjoyed a wide range of dishes at this buffet outlet with aesthetic interiors and designer exteriors. Scrumptious barbeque starters with grilled chicken,fish tikka in skewers on the table. Sipped on a variety of mocktails plus the singer was there to entertain throughout our time there. The main course dishes were made very well with excellent sea food, dum biryani , paneer dishes, types of breads and exquisite desserts to choose from namely white chocolate brownie , pineapple pastries , truffle cake and cut fruits. Would definitely recommend to one and all.\n",
      "Piyush Matreja 5 Live singing, spectacular ambience and every one enjoying to the grilled kebabs on their table, that's Themis barbeque all about. Based on the concept of buffet where you start with snacks on the table with cool mocktails. I tried the lemon ice tea and charred prawns tikka as well as chicken malai tikka ,their non veg starters were great. Main course I had mutton rogan josh with lachha parantha and enjoyed a few of my favourite desserts namely strawberry tarts and a chocolate truffle cake with cherries. I must say that was a good lunch I relished after long.\n"
     ]
    }
   ],
   "source": [
    "for i in req7_py[\"user_reviews\"]:\n",
    "    print(i[\"review\"][\"user\"][\"name\"],i[\"review\"][\"rating\"],i[\"review\"][\"review_text\"])"
   ]
  }
 ],
 "metadata": {
  "kernelspec": {
   "display_name": "Python 3",
   "language": "python",
   "name": "python3"
  },
  "language_info": {
   "codemirror_mode": {
    "name": "ipython",
    "version": 3
   },
   "file_extension": ".py",
   "mimetype": "text/x-python",
   "name": "python",
   "nbconvert_exporter": "python",
   "pygments_lexer": "ipython3",
   "version": "3.7.6"
  }
 },
 "nbformat": 4,
 "nbformat_minor": 4
}
